{
  "cells": [
    {
      "cell_type": "code",
      "execution_count": 15,
      "metadata": {
        "colab": {
          "base_uri": "https://localhost:8080/"
        },
        "id": "hb1g2o4kQJ73",
        "outputId": "143b3be4-0aca-424d-a979-9f55f2f36602"
      },
      "outputs": [
        {
          "name": "stdout",
          "output_type": "stream",
          "text": [
            "O ator/atriz com mais filmes é Robert DeNiro com 79 filmes.\n"
          ]
        }
      ],
      "source": [
        "import pandas as pd\n",
        "import numpy as np\n",
        "\n",
        "# Identifique o ator/atriz com maior número de filmes e o respectivo número de filmes.\n",
        "\n",
        "# Carregamos o DataFrame\n",
        "df = pd.read_csv('actors.csv')\n",
        "\n",
        "# Acessamos a coluna pelo nome original\n",
        "actor_with_most_movies = df[df['Number of Movies'] == df['Number of Movies'].max()]\n",
        "\n",
        "# Utilizando NumPy para extrair os valores\n",
        "actor_name = np.array(actor_with_most_movies['Actor'])[0]\n",
        "num_movies = np.array(actor_with_most_movies['Number of Movies'])[0]\n",
        "\n",
        "# Exibindo a resposta formatada\n",
        "print(f\"O ator/atriz com mais filmes é {actor_name} com {num_movies} filmes.\")\n"
      ]
    },
    {
      "cell_type": "code",
      "execution_count": 10,
      "metadata": {
        "colab": {
          "base_uri": "https://localhost:8080/"
        },
        "id": "OqL_qkc-RTsP",
        "outputId": "3a91d0be-0dca-4a82-893b-4cac2b9469a3"
      },
      "outputs": [
        {
          "name": "stdout",
          "output_type": "stream",
          "text": [
            "A média do número de filmes é: 37.88\n"
          ]
        }
      ],
      "source": [
        "# 2- Apresentamos a média da coluna contendo o número de filmes.\n",
        "\n",
        "# Calculamos a média da coluna 'Number of Movies' usando NumPy\n",
        "media_numero_filmes = np.mean(data['Number of Movies'])\n",
        "\n",
        "# Exibe a média do número de filmes\n",
        "print(f\"A média do número de filmes é: {media_numero_filmes:.2f}\")"
      ]
    },
    {
      "cell_type": "code",
      "execution_count": 17,
      "metadata": {
        "colab": {
          "base_uri": "https://localhost:8080/"
        },
        "id": "DMQ6m6FBTQov",
        "outputId": "b449efab-0b24-4e18-88ef-040bac934730"
      },
      "outputs": [
        {
          "name": "stdout",
          "output_type": "stream",
          "text": [
            "O ator/atriz com a maior média por filme é Anthony Daniels, com uma média de 451.84 por filme.\n"
          ]
        }
      ],
      "source": [
        "# 3 - Apresente o nome do ator/atriz com a maior média por filme.\n",
        "\n",
        "data['Average per Movie'] = data['Total Gross'] / data['Number of Movies']\n",
        "\n",
        "# Encontramos a maior média por filme usando NumPy\n",
        "max_average = data['Average per Movie'].max()\n",
        "\n",
        "# Encontramos o ator/atriz com a maior média por filme\n",
        "actor_with_max_average = data[data['Average per Movie'] == max_average]\n",
        "\n",
        "# Utilizamos NumPy para extrair o nome do ator/atriz e a média\n",
        "actor_name = np.array(actor_with_max_average['Actor'])[0]\n",
        "average_per_movie = np.array(actor_with_max_average['Average per Movie'])[0]\n",
        "\n",
        "# Exibimos a resposta formatada\n",
        "print(f\"O ator/atriz com a maior média por filme é {actor_name}, com uma média de {average_per_movie:.2f} por filme.\")"
      ]
    },
    {
      "cell_type": "code",
      "execution_count": 16,
      "metadata": {
        "colab": {
          "base_uri": "https://localhost:8080/"
        },
        "id": "IqDDFiYLUcsX",
        "outputId": "d0c3f040-39c4-4d4e-c5f3-772d0c550b55"
      },
      "outputs": [
        {
          "name": "stdout",
          "output_type": "stream",
          "text": [
            "O filme 'The Avengers' é o mais frequente, aparecendo 6 vezes.\n"
          ]
        }
      ],
      "source": [
        "# 4 - Apresente o nome do(s) filme(s) mais frequente(s) e sua respectiva frequência.\n",
        "\n",
        "# Utilizando NumPy para contar a frequência dos filmes\n",
        "frequencia_filmes = df['#1 Movie'].value_counts()\n",
        "filme_mais_frequente = frequencia_filmes[frequencia_filmes == frequencia_filmes.max()]\n",
        "\n",
        "# Exibindo o(s) filme(s) mais frequente(s) e sua respectiva frequência\n",
        "for filme, frequencia in zip(np.array(filme_mais_frequente.index), np.array(filme_mais_frequente.values)):\n",
        "    print(f\"O filme '{filme}' é o mais frequente, aparecendo {frequencia} vezes.\")"
      ]
    }
  ],
  "metadata": {
    "colab": {
      "provenance": []
    },
    "kernelspec": {
      "display_name": "Python 3",
      "name": "python3"
    },
    "language_info": {
      "name": "python"
    }
  },
  "nbformat": 4,
  "nbformat_minor": 0
}
