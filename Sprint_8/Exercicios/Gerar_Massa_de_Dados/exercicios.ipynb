{
 "cells": [
  {
   "cell_type": "markdown",
   "metadata": {},
   "source": [
    "1 - Em Python, declare e inicialize uma lista contendo 250 inteiros obtidos de forma aleatória. Após, aplicar o método reverse sobre o conteúdo da lista e imprimir o resultado."
   ]
  },
  {
   "cell_type": "code",
   "execution_count": 2,
   "metadata": {},
   "outputs": [
    {
     "name": "stdout",
     "output_type": "stream",
     "text": [
      "[350, 134, 483, 482, 583, 758, 898, 634, 394, 226, 440, 975, 169, 590, 326, 453, 902, 176, 828, 704, 911, 612, 10, 319, 25, 990, 984, 46, 768, 397, 140, 392, 631, 826, 351, 743, 363, 911, 781, 904, 823, 608, 197, 666, 415, 943, 771, 805, 439, 253, 698, 533, 50, 581, 415, 717, 883, 395, 849, 196, 886, 272, 858, 63, 967, 805, 93, 168, 344, 236, 520, 934, 425, 360, 656, 165, 708, 389, 617, 379, 632, 335, 439, 198, 131, 406, 783, 701, 427, 875, 618, 139, 569, 315, 812, 163, 372, 495, 938, 431, 690, 530, 855, 807, 602, 142, 103, 394, 617, 982, 966, 150, 915, 486, 818, 376, 533, 574, 728, 127, 360, 439, 98, 464, 826, 402, 912, 495, 208, 890, 538, 61, 123, 944, 969, 774, 205, 80, 417, 240, 764, 632, 503, 280, 303, 865, 459, 274, 957, 617, 252, 241, 54, 917, 171, 210, 856, 31, 230, 398, 32, 813, 448, 591, 635, 210, 794, 499, 997, 982, 269, 62, 614, 336, 114, 228, 330, 5, 382, 19, 375, 327, 620, 926, 260, 644, 469, 769, 919, 15, 171, 653, 785, 677, 894, 933, 12, 457, 201, 944, 983, 524, 833, 332, 850, 255, 224, 62, 980, 88, 850, 793, 683, 94, 536, 615, 826, 914, 884, 949, 912, 344, 754, 431, 885, 228, 180, 252, 579, 183, 396, 299, 408, 728, 990, 96, 679, 349, 277, 775, 628, 830, 343, 290, 748, 760, 683, 500, 37, 12]\n"
     ]
    }
   ],
   "source": [
    "import random\n",
    "\n",
    "lista_inteiros = [random.randint(1, 1000) for _ in range(250)]\n",
    "lista_inteiros.reverse()\n",
    "print(lista_inteiros)\n"
   ]
  },
  {
   "cell_type": "markdown",
   "metadata": {},
   "source": [
    "2 - Em Python, declare e inicialize uma lista contendo o nome de 20 animais. Ordene-os em ordem crescente e itere sobre os itens, imprimindo um a um (você pode utilizar list comprehension aqui).  Na sequência, armazene o conteúdo da lista em um arquivo de texto, um item em cada linha, no formato CSV."
   ]
  },
  {
   "cell_type": "code",
   "execution_count": 1,
   "metadata": {},
   "outputs": [
    {
     "name": "stdout",
     "output_type": "stream",
     "text": [
      "Baleia\n",
      "Cachorro\n",
      "Cavalo\n",
      "Coala\n",
      "Elefante\n",
      "Galinha\n",
      "Gato\n",
      "Girafa\n",
      "Hipopótamo\n",
      "Leão\n",
      "Macaco\n",
      "Panda\n",
      "Panda Vermelho\n",
      "Pato\n",
      "Pinguim\n",
      "Rinoceronte\n",
      "Tigre\n",
      "Tubarão\n",
      "Urso\n",
      "Zebra\n",
      "\n",
      "Conteúdo da lista armazenado no arquivo 'animais.csv' no formato CSV.\n"
     ]
    }
   ],
   "source": [
    "import csv\n",
    "\n",
    "animais = [\"Cachorro\", \"Gato\", \"Leão\", \"Elefante\", \"Tigre\", \"Zebra\", \"Panda\", \"Girafa\", \"Cavalo\", \"Pato\", \"Galinha\", \"Urso\", \"Pinguim\", \"Baleia\", \"Macaco\", \"Rinoceronte\", \"Tubarão\", \"Hipopótamo\", \"Coala\", \"Panda Vermelho\"]\n",
    "\n",
    "# Ordena a lista em ordem crescente\n",
    "animais_ordenados = sorted(animais)\n",
    "\n",
    "# Itera sobre os itens e imprime um a um usando list comprehension\n",
    "print(\"\\n\".join([animal for animal in animais_ordenados]))\n",
    "\n",
    "# Armazena o conteúdo da lista em um arquivo CSV\n",
    "nome_arquivo = \"animais.csv\"\n",
    "with open(nome_arquivo, mode=\"w\", newline=\"\", encoding=\"utf-8\") as arquivo_csv:\n",
    "    escritor_csv = csv.writer(arquivo_csv)\n",
    "    for animal in animais_ordenados:\n",
    "        escritor_csv.writerow([animal])\n",
    "\n",
    "print(f\"\\nConteúdo da lista armazenado no arquivo '{nome_arquivo}' no formato CSV.\")\n"
   ]
  },
  {
   "cell_type": "markdown",
   "metadata": {},
   "source": [
    "Elaborar um código Python para gerar um dataset de nomes de pessoas. Siga os passos a seguir para realizar a atividade:\n",
    "\n",
    "Passo 1:  Instalar biblioteca names para geração de nomes aleatórios. O comando de instalação é pip install names\n",
    "Passo 2 Importar as bibliotecas random, time, os e names em seu código\n",
    "Passo 3: Definir os parâmetros para geração do dataset, ou seja, a quantidades de nomes aleatórios e a quantidade de nomes que devem ser únicos.\n",
    "Passo 4: Gerar os nomes aleatórios.\n",
    "Passo 5: Gerar um arquivo de texto contendo todos os nomes, um a cada linha. O nome do arquivo deve ser nomes_aleatorios.txt\n",
    "Passo 6: Abrir o arquivo e verificar seu conteúdo (editor de texto)\n",
    "\n"
   ]
  },
  {
   "cell_type": "code",
   "execution_count": 3,
   "metadata": {},
   "outputs": [
    {
     "name": "stdout",
     "output_type": "stream",
     "text": [
      "Gerando 10000000 nomes aleatórios\n",
      "Arquivo 'nomes_aleatorios.txt' gerado com sucesso.\n"
     ]
    }
   ],
   "source": [
    "# Passo 1: Instalar biblioteca names\n",
    "# Comando: pip install names\n",
    "# Certifique-se de instalar a biblioteca antes de executar o código\n",
    "\n",
    "# Passo 2: Importar bibliotecas\n",
    "import random\n",
    "import time\n",
    "import os\n",
    "import names\n",
    "\n",
    "# Passo 3: Definir parâmetros\n",
    "random.seed(40)\n",
    "qtd_nomes_unicos = 3000\n",
    "qtd_nomes_aleatorios = 10000000\n",
    "\n",
    "# Passo 4: Gerar nomes aleatórios\n",
    "aux = [names.get_full_name() for _ in range(qtd_nomes_unicos)]\n",
    "\n",
    "print(\"Gerando {} nomes aleatórios\".format(qtd_nomes_aleatorios))\n",
    "\n",
    "dados = [random.choice(aux) for _ in range(qtd_nomes_aleatorios)]\n",
    "\n",
    "# Passo 5: Gerar arquivo de texto com os nomes\n",
    "nome_arquivo = \"nomes_aleatorios.txt\"\n",
    "with open(nome_arquivo, mode=\"w\", encoding=\"utf-8\") as arquivo_texto:\n",
    "    for nome in dados:\n",
    "        arquivo_texto.write(nome + \"\\n\")\n",
    "\n",
    "print(\"Arquivo '{}' gerado com sucesso.\".format(nome_arquivo))\n",
    "\n"
   ]
  }
 ],
 "metadata": {
  "kernelspec": {
   "display_name": "Python 3",
   "language": "python",
   "name": "python3"
  },
  "language_info": {
   "codemirror_mode": {
    "name": "ipython",
    "version": 3
   },
   "file_extension": ".py",
   "mimetype": "text/x-python",
   "name": "python",
   "nbconvert_exporter": "python",
   "pygments_lexer": "ipython3",
   "version": "3.11.6"
  }
 },
 "nbformat": 4,
 "nbformat_minor": 2
}
